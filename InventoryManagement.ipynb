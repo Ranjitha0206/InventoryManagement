{
  "nbformat": 4,
  "nbformat_minor": 0,
  "metadata": {
    "colab": {
      "name": "InventoryManagement.ipynb",
      "provenance": [],
      "collapsed_sections": [],
      "authorship_tag": "ABX9TyNPacN76+KrqaQuUF7t/chh",
      "include_colab_link": true
    },
    "kernelspec": {
      "name": "python3",
      "display_name": "Python 3"
    },
    "language_info": {
      "name": "python"
    }
  },
  "cells": [
    {
      "cell_type": "markdown",
      "metadata": {
        "id": "view-in-github",
        "colab_type": "text"
      },
      "source": [
        "<a href=\"https://colab.research.google.com/github/Ranjitha0206/InventoryManagement/blob/main/InventoryManagement.ipynb\" target=\"_parent\"><img src=\"https://colab.research.google.com/assets/colab-badge.svg\" alt=\"Open In Colab\"/></a>"
      ]
    },
    {
      "cell_type": "code",
      "metadata": {
        "id": "LgwK3fqq7UTr"
      },
      "source": [
        "import json\n",
        "import os"
      ],
      "execution_count": null,
      "outputs": []
    },
    {
      "cell_type": "code",
      "metadata": {
        "id": "sQO_Czwf7mV-"
      },
      "source": [
        "def loadJson():\n",
        "    if os.path.exists('record.json'):\n",
        "        if os.stat(\"record.json\").st_size == 0:\n",
        "            return {}\n",
        "        else:\n",
        "            with open('record.json','r') as f:\n",
        "                record=json.loads(f.read())\n",
        "            return record    \n",
        "    else:\n",
        "        return {}"
      ],
      "execution_count": null,
      "outputs": []
    },
    {
      "cell_type": "code",
      "metadata": {
        "id": "Kx_nFf1b7qyK"
      },
      "source": [
        "def dumpsJson():\n",
        "    if input(\"Do you want to save all updates? Y/N  \").lower()=='y':\n",
        "        \n",
        "        txt=json.dumps(record)\n",
        "        with open('record.json','w') as f:\n",
        "          f.write(txt)\n",
        "        print('***************  Record Saved  ***************')\n",
        "    else:\n",
        "        print(\"*************** Record Not saved ***************\")"
      ],
      "execution_count": null,
      "outputs": []
    },
    {
      "cell_type": "code",
      "metadata": {
        "id": "VmwZns0H7vFC"
      },
      "source": [
        "def addRecord(id):\n",
        "    add=input(\"Do you want to add new record Y/N  \").lower()\n",
        "    if add=='y':\n",
        "        record[id]={}\n",
        "        name=input(\"Enter product name  \")\n",
        "        cat=input(\"Enter product Category  \")\n",
        "        price=int(input(\"Enter Product Price  \"))\n",
        "        quant=int(input(\"Enter Product Quantity  \"))\n",
        "        dis=int(input(\"Enter Product Discount % \"))\n",
        "        record[id]['name']=name\n",
        "        record[id]['catogary']=cat\n",
        "        record[id]['price']=price\n",
        "        record[id]['quantity']=quant\n",
        "        record[id]['discount']=dis\n",
        "        print(\"Record added successfully  \")\n",
        "    else:\n",
        "        print(\"Operation Cancel  \")"
      ],
      "execution_count": null,
      "outputs": []
    },
    {
      "cell_type": "code",
      "metadata": {
        "id": "rKpDnFS-7zGi"
      },
      "source": [
        "def updateRecord(id):\n",
        "    flag=True\n",
        "    update=input(\"Record Already Exist!!!\\nDo you want to update it? Y/N or enter q to exit  \").lower()\n",
        "    if update=='y':\n",
        "        while True:\n",
        "            key=input(\"Which one do you want to update Name/Category/Price/Quantity/Discount  \").lower()\n",
        "            print(record[id])\n",
        "            if key in record[id]:\n",
        "                record[id][key]=input(f\"Enter new Value for {key}  \")\n",
        "                break\n",
        "            else:\n",
        "                print(\"Wrong value Please enter Again  \")\n",
        "        print(\"***************Record updated successfully***************\")\n",
        "    elif update=='q':\n",
        "        flag=False\n",
        "    else:\n",
        "        print(\"***************Operation Cancel***************\")\n",
        "    return flag"
      ],
      "execution_count": null,
      "outputs": []
    },
    {
      "cell_type": "code",
      "metadata": {
        "id": "vrXEAp_174BV"
      },
      "source": [
        "def buyRecord(prodName):\n",
        "    AllProd={}\n",
        "    flag=True\n",
        "    for i in record:\n",
        "        if prodName == record[i]['name']:\n",
        "            AllProd[i]=f\"Name=> {record[i]['name']} Price:=> {record[i]['price']}\"\n",
        "    if len(AllProd)==0:\n",
        "        print(\"Product Not Found  \")\n",
        "    elif len(AllProd)==1:\n",
        "        agree=input(f\"Do you want to buy {list(AllProd.values())[0]} y/n and enter q to quit  \").lower()\n",
        "        if agree=='y':\n",
        "            quant=int(input(\"Enter The Quantity of the product  \"))\n",
        "            key=list(AllProd.keys())[0]\n",
        "            for i in record:\n",
        "                if i==key:\n",
        "                    if record[i]['quantity']>=quant:\n",
        "                        record[i]['quantity']-=quant\n",
        "                        price=record[i]['price']\n",
        "                        pay=input(\"You Need To pay {quant*price-((price*record[i]['discount'])/100)} \\nYou Want to pay or not y/n\")\n",
        "                        if pay=='y':\n",
        "                            print(\"*************** Successfully Purchessed ***************\")\n",
        "                        else:\n",
        "                            print(\"*************** Order Cancel ***************\")\n",
        "                    else:\n",
        "                        print(f\"Sorry We have Only {record[i]['quantity']} product  \")\n",
        "        elif agree=='q':\n",
        "            flag=False\n",
        "    elif len(AllProd)>1:\n",
        "        print(f\"There are {len(AllProd)} with name:=>{prodName} \\nDo you want to buy Choose one Or enter q to exit  \")\n",
        "        j=0\n",
        "        product={}\n",
        "        for i in AllProd:\n",
        "            print(f\"{j}:=> {AllProd[i]}  \")\n",
        "            product[j]=AllProd[i]\n",
        "            j+=1 \n",
        "        \n",
        "        k=input(f\"Choose Number {list(range(j))}  \")\n",
        "        key=product[int(k)]\n",
        "        if k!='q':\n",
        "            quant=int(input(\"Enter The Quantity of the product  \"))\n",
        "            for i in record:\n",
        "                if i==key:\n",
        "                    if record[i]['quantity']>=quant:\n",
        "                        record[i]['quantity']-=quant\n",
        "                        print(\"***************Successfully Purchessed***************\")\n",
        "                    else:\n",
        "                        print(f\"Sorry We have Only {record[i]['quantity']} product  \")\n",
        "        else:\n",
        "            flag=False  \n",
        "    return flag"
      ],
      "execution_count": null,
      "outputs": []
    },
    {
      "cell_type": "code",
      "metadata": {
        "id": "W-_VFAtT78y_"
      },
      "source": [
        "def operations():\n",
        "    flag=True\n",
        "    buyOrAdd=input(\"Do you want to add a record or Buy something from a record add/buy Or Enter Q to exit  \").lower()\n",
        "    if buyOrAdd=='add':\n",
        "        while flag:\n",
        "            id=int(input(\"Enter Product I'd  \"))\n",
        "            if (str(id) or id) not in record:\n",
        "                flag = addRecord(id)\n",
        "            elif (str(id) or id) in record:\n",
        "                flag = updateRecord(id)\n",
        "            if input(\"Do you want to add more y/n  \").lower()=='n':\n",
        "                flag=False\n",
        "            else:\n",
        "                flag=True\n",
        "    elif buyOrAdd=='buy':\n",
        "        while flag:\n",
        "            name=input(\"Enter product name  \")\n",
        "            flag=buyRecord(name)\n",
        "            if input(\"Do you want to buy more y/n  \").lower()=='n':\n",
        "                flag=False\n",
        "    elif buyOrAdd=='q':\n",
        "        flag=False\n",
        "    else:\n",
        "        print(\"Wrong Input \\nPlease Enter again:=>  \")\n",
        "    return flag"
      ],
      "execution_count": null,
      "outputs": []
    },
    {
      "cell_type": "code",
      "metadata": {
        "colab": {
          "base_uri": "https://localhost:8080/"
        },
        "id": "1YwZj9FA8A1A",
        "outputId": "5a77ad39-37d2-4ab1-cec2-8e5c54f2632d"
      },
      "source": [
        "if __name__=='__main__':\n",
        "    record=loadJson()\n",
        "    flag=True\n",
        "    while flag:\n",
        "        print(\"******************** Welcome ********************\")    \n",
        "        flag=True\n",
        "        print(\"\\n\\n*************** Old Record ***************\\n\")\n",
        "        if record=={}:\n",
        "            print(\"*************** Record Empty ***************\")\n",
        "        else:\n",
        "            for i in record:\n",
        "                print(i,\":=>\",record[i])\n",
        "        flag = operations()            \n",
        "        if input(\"Do you want to continue y/n  \").lower()=='n':\n",
        "            break\n",
        "        else:\n",
        "            flag=True\n",
        "    dumpsJson()\n",
        "    print(\"\\n\\n*********** Thanks you For using ***************\")"
      ],
      "execution_count": null,
      "outputs": [
        {
          "output_type": "stream",
          "name": "stdout",
          "text": [
            "******************** Welcome ********************\n",
            "\n",
            "\n",
            "*************** Old Record ***************\n",
            "\n",
            "1 :=> {'name': 'Bourbon', 'category': 'biscuit', 'price': 5, 'quantity': 50, 'discount': 0}\n",
            "2 :=> {'name': 'Good day', 'category': 'biscuit', 'price': 10, 'quantity': 30, 'discount': 0}\n",
            "3 :=> {'name': 'Dairy Milk', 'category': 'Chocolate', 'price': 5, 'quantity': 50, 'discount': 0}\n",
            "4 :=> {'name': 'Dairy Milk', 'category': 'Chocolate', 'price': 10, 'quantity': 62, 'discount': 0}\n",
            "5 :=> {'name': 'Kitkat', 'category': 'Chocolate', 'price': 5, 'quantity': 42, 'discount': 0}\n",
            "6 :=> {'name': 'Galaxy', 'category': 'Chocolate', 'price': 5, 'quantity': 230, 'discount': 0}\n",
            "7 :=> {'name': 'Amul Milk Chocolate', 'category': 'Chocolate', 'price': 5, 'quantity': 20, 'discount': 2}\n",
            "8 :=> {'name': \"Hershey's\", 'category': 'Chocolate', 'price': 5, 'quantity': 500, 'discount': 5}\n",
            "9 :=> {'name': 'Milkybar', 'category': 'Chocolate', 'price': 5, 'quantity': 90, 'discount': 0}\n",
            "10 :=> {'name': 'Kurkure', 'category': 'Chips', 'price': 5, 'quantity': 50, 'discount': 0}\n",
            "11 :=> {'name': 'Lays', 'category': 'Chips', 'price': 5, 'quantity': 50, 'discount': 0}\n",
            "12 :=> {'name': 'Bingo', 'category': 'Chips', 'price': 10, 'quantity': 25, 'discount': 2}\n",
            "13 :=> {'name': 'Maaza', 'category': 'Soft Drink', 'price': 20, 'quantity': 500, 'discount': 5}\n",
            "14 :=> {'name': 'Sprite', 'category': 'Soft Drink', 'price': 15, 'quantity': 800, 'discount': 0}\n",
            "15 :=> {'name': 'Slice', 'category': 'Soft Drink', 'price': 15, 'quantity': 800, 'discount': 0}\n",
            "16 :=> {'name': 'Cocacola', 'category': 'Soft Drink', 'price': 15, 'quantity': 800, 'discount': 3}\n",
            "17 :=> {'name': 'Eclairs', 'category': 'Chocolate', 'price': 5, 'quantity': 90, 'discount': 1}\n",
            "18 :=> {'name': 'Mentos', 'category': 'Chocolate', 'price': 5, 'quantity': 90, 'discount': 2}\n",
            "19 :=> {'name': 'snickers', 'category': 'Chocolate', 'price': 40, 'quantity': 90, 'discount': 1}\n",
            "20 :=> {'name': 'Fuse', 'category': 'Chocolate', 'price': 35, 'quantity': 100, 'discount': 1}\n",
            "21 :=> {'name': 'Cheetos', 'category': 'Chips', 'price': 20, 'quantity': 50, 'discount': 0}\n",
            "22 :=> {'name': 'Mad Angles', 'category': 'Chips', 'price': 15, 'quantity': 25, 'discount': 2}\n",
            "23 :=> {'name': 'Lays', 'category': 'Chips', 'price': 5, 'quantity': 50, 'discount': 0}\n",
            "24 :=> {'name': 'Ferrero Rocher', 'category': 'Chocolate', 'price': 350, 'quantity': 100, 'discount': 1}\n",
            "25 :=> {'name': 'Baskin-Robbins', 'category': 'Ice Cream', 'price': 500, 'quantity': 100, 'discount': 0}\n",
            "26 :=> {'name': 'Amul Black Current', 'category': 'Ice Cream', 'price': 250, 'quantity': 100, 'discount': 1}\n",
            "27 :=> {'name': 'Cornetto', 'category': 'Ice Cream', 'price': 50, 'quantity': 100, 'discount': 2}\n",
            "28 :=> {'name': 'Kinder Joy', 'category': 'Chocolate', 'price': 35, 'quantity': 100, 'discount': 1}\n",
            "29 :=> {'name': 'Oreo', 'category': 'Biscuit', 'price': 10, 'quantity': 10, 'discount': 1}\n",
            "30 :=> {'name': 'Hide & Seek', 'category': 'Biscuit', 'price': 30, 'quantity': 200, 'discount': 5}\n",
            "Do you want to add a record or Buy something from a record add/buy Or Enter Q to exit  Q\n",
            "Do you want to continue y/n  Y\n",
            "******************** Welcome ********************\n",
            "\n",
            "\n",
            "*************** Old Record ***************\n",
            "\n",
            "1 :=> {'name': 'Bourbon', 'category': 'biscuit', 'price': 5, 'quantity': 50, 'discount': 0}\n",
            "2 :=> {'name': 'Good day', 'category': 'biscuit', 'price': 10, 'quantity': 30, 'discount': 0}\n",
            "3 :=> {'name': 'Dairy Milk', 'category': 'Chocolate', 'price': 5, 'quantity': 50, 'discount': 0}\n",
            "4 :=> {'name': 'Dairy Milk', 'category': 'Chocolate', 'price': 10, 'quantity': 62, 'discount': 0}\n",
            "5 :=> {'name': 'Kitkat', 'category': 'Chocolate', 'price': 5, 'quantity': 42, 'discount': 0}\n",
            "6 :=> {'name': 'Galaxy', 'category': 'Chocolate', 'price': 5, 'quantity': 230, 'discount': 0}\n",
            "7 :=> {'name': 'Amul Milk Chocolate', 'category': 'Chocolate', 'price': 5, 'quantity': 20, 'discount': 2}\n",
            "8 :=> {'name': \"Hershey's\", 'category': 'Chocolate', 'price': 5, 'quantity': 500, 'discount': 5}\n",
            "9 :=> {'name': 'Milkybar', 'category': 'Chocolate', 'price': 5, 'quantity': 90, 'discount': 0}\n",
            "10 :=> {'name': 'Kurkure', 'category': 'Chips', 'price': 5, 'quantity': 50, 'discount': 0}\n",
            "11 :=> {'name': 'Lays', 'category': 'Chips', 'price': 5, 'quantity': 50, 'discount': 0}\n",
            "12 :=> {'name': 'Bingo', 'category': 'Chips', 'price': 10, 'quantity': 25, 'discount': 2}\n",
            "13 :=> {'name': 'Maaza', 'category': 'Soft Drink', 'price': 20, 'quantity': 500, 'discount': 5}\n",
            "14 :=> {'name': 'Sprite', 'category': 'Soft Drink', 'price': 15, 'quantity': 800, 'discount': 0}\n",
            "15 :=> {'name': 'Slice', 'category': 'Soft Drink', 'price': 15, 'quantity': 800, 'discount': 0}\n",
            "16 :=> {'name': 'Cocacola', 'category': 'Soft Drink', 'price': 15, 'quantity': 800, 'discount': 3}\n",
            "17 :=> {'name': 'Eclairs', 'category': 'Chocolate', 'price': 5, 'quantity': 90, 'discount': 1}\n",
            "18 :=> {'name': 'Mentos', 'category': 'Chocolate', 'price': 5, 'quantity': 90, 'discount': 2}\n",
            "19 :=> {'name': 'snickers', 'category': 'Chocolate', 'price': 40, 'quantity': 90, 'discount': 1}\n",
            "20 :=> {'name': 'Fuse', 'category': 'Chocolate', 'price': 35, 'quantity': 100, 'discount': 1}\n",
            "21 :=> {'name': 'Cheetos', 'category': 'Chips', 'price': 20, 'quantity': 50, 'discount': 0}\n",
            "22 :=> {'name': 'Mad Angles', 'category': 'Chips', 'price': 15, 'quantity': 25, 'discount': 2}\n",
            "23 :=> {'name': 'Lays', 'category': 'Chips', 'price': 5, 'quantity': 50, 'discount': 0}\n",
            "24 :=> {'name': 'Ferrero Rocher', 'category': 'Chocolate', 'price': 350, 'quantity': 100, 'discount': 1}\n",
            "25 :=> {'name': 'Baskin-Robbins', 'category': 'Ice Cream', 'price': 500, 'quantity': 100, 'discount': 0}\n",
            "26 :=> {'name': 'Amul Black Current', 'category': 'Ice Cream', 'price': 250, 'quantity': 100, 'discount': 1}\n",
            "27 :=> {'name': 'Cornetto', 'category': 'Ice Cream', 'price': 50, 'quantity': 100, 'discount': 2}\n",
            "28 :=> {'name': 'Kinder Joy', 'category': 'Chocolate', 'price': 35, 'quantity': 100, 'discount': 1}\n",
            "29 :=> {'name': 'Oreo', 'category': 'Biscuit', 'price': 10, 'quantity': 10, 'discount': 1}\n",
            "30 :=> {'name': 'Hide & Seek', 'category': 'Biscuit', 'price': 30, 'quantity': 200, 'discount': 5}\n",
            "Do you want to add a record or Buy something from a record add/buy Or Enter Q to exit  buy\n",
            "Enter product name  Lays\n",
            "There are 2 with name:=>Lays \n",
            "Do you want to buy Choose one Or enter q to exit  \n",
            "0:=> Name=> Lays Price:=> 5  \n",
            "1:=> Name=> Lays Price:=> 5  \n",
            "Choose Number [0, 1]  1\n",
            "Enter The Quantity of the product  2\n",
            "Do you want to buy more y/n  n\n",
            "Do you want to continue y/n  n\n",
            "Do you want to save all updates? Y/N  y\n",
            "***************  Record Saved  ***************\n",
            "\n",
            "\n",
            "*********** Thanks you For using ***************\n"
          ]
        }
      ]
    }
  ]
}